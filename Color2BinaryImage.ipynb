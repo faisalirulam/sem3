{
 "cells": [
  {
   "cell_type": "code",
   "execution_count": 12,
   "id": "33f9da56",
   "metadata": {},
   "outputs": [],
   "source": [
    "import cv2"
   ]
  },
  {
   "cell_type": "code",
   "execution_count": 13,
   "id": "01336a35",
   "metadata": {},
   "outputs": [],
   "source": [
    "image=cv2.imread('coco.jpg',0)"
   ]
  },
  {
   "cell_type": "code",
   "execution_count": 14,
   "id": "a41d15ae",
   "metadata": {},
   "outputs": [],
   "source": [
    "cv2.imshow('Original Image',image)\n",
    "cv2.waitKey(0)\n",
    "cv2.destroyAllWindows()"
   ]
  },
  {
   "cell_type": "code",
   "execution_count": 15,
   "id": "829f84b3",
   "metadata": {},
   "outputs": [
    {
     "data": {
      "text/plain": [
       "(768, 1024)"
      ]
     },
     "execution_count": 15,
     "metadata": {},
     "output_type": "execute_result"
    }
   ],
   "source": [
    "image.shape"
   ]
  },
  {
   "cell_type": "code",
   "execution_count": 16,
   "id": "df171a3b",
   "metadata": {},
   "outputs": [],
   "source": [
    "threshold=127"
   ]
  },
  {
   "cell_type": "code",
   "execution_count": 17,
   "id": "237312f1",
   "metadata": {},
   "outputs": [],
   "source": [
    "r,c=image.shape"
   ]
  },
  {
   "cell_type": "code",
   "execution_count": 18,
   "id": "08c9671c",
   "metadata": {},
   "outputs": [
    {
     "data": {
      "text/plain": [
       "768"
      ]
     },
     "execution_count": 18,
     "metadata": {},
     "output_type": "execute_result"
    }
   ],
   "source": [
    "r"
   ]
  },
  {
   "cell_type": "code",
   "execution_count": 19,
   "id": "9af8d07c",
   "metadata": {},
   "outputs": [
    {
     "data": {
      "text/plain": [
       "1024"
      ]
     },
     "execution_count": 19,
     "metadata": {},
     "output_type": "execute_result"
    }
   ],
   "source": [
    "c"
   ]
  },
  {
   "cell_type": "code",
   "execution_count": 20,
   "id": "91a08dd9",
   "metadata": {},
   "outputs": [],
   "source": [
    "for i in range(r):\n",
    "    for j in range(c):\n",
    "        if image[i][j] >= threshold:\n",
    "            image[i][j]=255\n",
    "        else:\n",
    "            image[i][j]=0\n",
    "            "
   ]
  },
  {
   "cell_type": "code",
   "execution_count": 21,
   "id": "21a1d406",
   "metadata": {},
   "outputs": [],
   "source": [
    "cv2.imshow('Binary Image',image)\n",
    "cv2.waitKey(0)\n",
    "cv2.destroyAllWindows()"
   ]
  },
  {
   "cell_type": "code",
   "execution_count": null,
   "id": "ff08d103",
   "metadata": {},
   "outputs": [],
   "source": []
  },
  {
   "cell_type": "code",
   "execution_count": null,
   "id": "36697d5a",
   "metadata": {},
   "outputs": [],
   "source": []
  }
 ],
 "metadata": {
  "kernelspec": {
   "display_name": "Python 3 (ipykernel)",
   "language": "python",
   "name": "python3"
  },
  "language_info": {
   "codemirror_mode": {
    "name": "ipython",
    "version": 3
   },
   "file_extension": ".py",
   "mimetype": "text/x-python",
   "name": "python",
   "nbconvert_exporter": "python",
   "pygments_lexer": "ipython3",
   "version": "3.8.8"
  }
 },
 "nbformat": 4,
 "nbformat_minor": 5
}
